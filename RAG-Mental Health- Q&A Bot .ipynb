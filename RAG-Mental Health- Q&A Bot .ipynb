{
 "cells": [
  {
   "cell_type": "markdown",
   "id": "c3f39bac",
   "metadata": {},
   "source": [
    "# RAG-Mental Health- Q&A Bot "
   ]
  },
  {
   "cell_type": "markdown",
   "id": "f150a146",
   "metadata": {},
   "source": [
    "The RAG Pipeline project is an implementation of a chatbot system that leverages the powerful combination of retrieval-based and generative models. The pipeline consists of two main stages: retrieval and generation. In the retrieval stage, the system extracts relevant information from the web using a Google search API to gather passages related to the user's query on mental health. The retrieved passages are then processed to filter out unwanted details, ensuring the relevance and quality of the information.\n",
    "\n",
    "In the second stage, a GPT-2 (Generative Pre-trained Transformer 2) model is employed for text generation. The system formulates a prompt using the user's question and the retrieved passages, creating a context-rich input for the generative model. The GPT-2 model generates a response, providing insightful and context-aware answers to the user's queries on mental health."
   ]
  },
  {
   "cell_type": "code",
   "execution_count": 4,
   "id": "b4055079",
   "metadata": {},
   "outputs": [
    {
     "data": {
      "image/png": "[encoded data removed]",
      "text/plain": [
       "<Figure size 1000x600 with 1 Axes>"
      ]
     },
     "metadata": {},
     "output_type": "display_data"
    }
   ],
   "source": [
    "import matplotlib.pyplot as plt\n",
    "\n",
    "# Create a figure and axis\n",
    "fig, ax = plt.subplots(figsize=(10, 6))\n",
    "\n",
    "# Draw rectangles for each component with bluish color\n",
    "components = [\n",
    "    \"User Interface\",\n",
    "    \"User Input Processing\",\n",
    "    \"Retrieval Model\",\n",
    "    \"Pretrained Language Model\",\n",
    "    \"Answer Generation\",\n",
    "    \"Post-processing & Answer Presentation\"\n",
    "]\n",
    "\n",
    "for i, component in enumerate(components):\n",
    "    ax.text(0.5, 0.8 - i * 0.15, component, ha='center', va='center', bbox=dict(boxstyle='round', facecolor='orange'))\n",
    "\n",
    "# Draw arrows between components with bluish color\n",
    "for i in range(len(components) - 1):\n",
    "    ax.annotate('', xy=(0.5, 0.7 - i * 0.15), xytext=(0.5, 0.75 - i * 0.15),\n",
    "                arrowprops=dict(arrowstyle='->', connectionstyle='arc3,rad=0.5', color='k'))\n",
    "\n",
    "\n",
    "# Remove axes and display the diagram\n",
    "ax.axis('off')\n",
    "plt.show()\n"
   ]
  },
  {
   "cell_type": "markdown",
   "id": "458a5718",
   "metadata": {},
   "source": [
    "## Explanation of Components:\n",
    "These components collectively form a comprehensive system for handling user queries, retrieving relevant information, and generating context-aware responses. The effectiveness of each component contributes to the overall performance and user satisfaction of the chatbot system.\n",
    "\n",
    "#### User Interface:\n",
    "The user interface serves as the primary entry point where users interact with the system. It allows users to input queries or questions and receive responses. The design of this component is crucial for providing a seamless and user-friendly experience.\n",
    "\n",
    "#### User Input Processing:\n",
    "Upon receiving user inputs, the system initiates user input processing. This step involves various tasks such as preprocessing and tokenization. Preprocessing may include tasks like removing unnecessary characters, correcting spelling errors, and converting text to lowercase. Tokenization breaks down the user input into individual units (tokens), making it ready for subsequent processing.\n",
    "\n",
    "#### Retrieval Model:\n",
    "The retrieval model plays a key role in fetching relevant information based on the user's query. It leverages a retrieval mechanism such as Elasticsearch or Solr to search through a collection of documents or passages. The goal is to identify and extract content that is contextually related to the user's input.\n",
    "#### Pretrained Language Model:\n",
    "The pretrained language model is a sophisticated language processing model that has been trained on vast amounts of textual data. Models like GPT-3, T5, and BERT excel in understanding the nuances of natural language. This component is responsible for comprehending the user's query and generating coherent responses.\n",
    "#### Answer Generation:\n",
    "In the answer generation phase, the system combines the information retrieved from documents with the context-aware generation capabilities of the pretrained language model. This synthesis ensures that the generated answers are not only relevant but also contextually appropriate. The answer generation component is pivotal in formulating responses that are both informative and natural-sounding.\n",
    "#### Post-processing & Answer Presentation:\n",
    "The final steps involve post-processing the generated answer to refine its quality. This may include additional steps like removing redundant information, formatting the text for readability, and ensuring grammatical correctness. Once the post-processing is complete, the refined answer is presented back to the user through the user interface, concluding the interaction cycle."
   ]
  },
  {
   "cell_type": "markdown",
   "id": "6c4655e6",
   "metadata": {},
   "source": [
    "## Stage-1"
   ]
  },
  {
   "cell_type": "code",
   "execution_count": 5,
   "id": "c099dabc",
   "metadata": {},
   "outputs": [],
   "source": [
    "import requests\n",
    "from bs4 import BeautifulSoup\n",
    "from googlesearch import search"
   ]
  },
  {
   "cell_type": "markdown",
   "id": "b698d24a",
   "metadata": {},
   "source": [
    "This code fetches the top 5 Google search results related to mental health using requests and googlesearch. It extracts relevant information from the HTML content of each page with BeautifulSoup. This extracted content forms the basis for generating informative responses in the chatbot pipeline."
   ]
  },
  {
   "cell_type": "code",
   "execution_count": 6,
   "id": "10338690",
   "metadata": {},
   "outputs": [],
   "source": [
    "def retrieve_passages_from_web(question):\n",
    "    # Perform a Google search and get the top 5 results\n",
    "    search_results = list(search(f\"mental health {question}\", num_results=5))\n",
    "\n",
    "    # Extract relevant passages from the search results\n",
    "    urls = []\n",
    "    for result in search_results:\n",
    "        urls.append(result)\n",
    "\n",
    "    return urls"
   ]
  },
  {
   "cell_type": "markdown",
   "id": "a9b4a0de",
   "metadata": {},
   "source": [
    "\n",
    "The 'retrieve_passages_from_web' function conducts a Google search using the provided 'question' related to mental health. It utilizes the googlesearch library to fetch the top 5 search results. These results, represented as URLs, are then extracted and stored in a list named 'urls.' The function returns this list, providing a collection of web page links containing information deemed relevant to the mental health query. The function serves as the initial step in the retrieval process, forming the basis for obtaining passages that will later be processed and utilized in generating informative responses."
   ]
  },
  {
   "cell_type": "code",
   "execution_count": null,
   "id": "c1ebfccf",
   "metadata": {},
   "outputs": [],
   "source": [
    "def fetch_content(url, max_length=500):\n",
    "    try:\n",
    "        response = requests.get(url)\n",
    "        soup = BeautifulSoup(response.text, 'html.parser')\n",
    "\n",
    "        # Extract text from paragraphs\n",
    "        paragraphs = soup.find_all('p')\n",
    "\n",
    "        # Combine paragraphs into content\n",
    "        content = ' '.join([paragraph.get_text() for paragraph in paragraphs])\n",
    "\n",
    "        # Remove unwanted details (you may need to customize this part based on your needs)\n",
    "        unwanted_phrases = ['Official website', 'Call or Text', 'Your browser is not supported']\n",
    "        content = ' '.join([line for line in content.split('\\n') if not any(phrase in line for phrase in unwanted_phrases)])\n",
    "\n",
    "        # Limit the length of the content\n",
    "        if len(content) > max_length:\n",
    "            content = content[:max_length] + '...'\n",
    "\n",
    "        return content.strip()\n",
    "    except Exception as e:\n",
    "        print(f\"Error fetching content from {url}: {e}\")\n",
    "        return None"
   ]
  },
  {
   "cell_type": "markdown",
   "id": "764fc86f",
   "metadata": {},
   "source": [
    "\n",
    "The fetch_content function retrieves content from a given URL by sending an HTTP request using the requests library. It then uses BeautifulSoup to parse the HTML and extracts text from paragraphs. The function combines these paragraphs into a unified content string. To enhance readability, unwanted details, identified by specific phrases, are removed. Additionally, the content length is limited to a specified maximum, ensuring concise information retrieval. In case of any errors during the process, the function prints an error message and returns None. This function plays a crucial role in obtaining and refining web page content for further processing in the chatbot pipeline."
   ]
  },
  {
   "cell_type": "markdown",
   "id": "75c7835b",
   "metadata": {},
   "source": [
    "## Stage-2"
   ]
  },
  {
   "cell_type": "markdown",
   "id": "7c4a8f0d",
   "metadata": {},
   "source": [
    "The chatbot pipeline progresses to the generation stage after retrieving passages from the web. The URLs obtained from the search results are used to fetch content from each web page using the fetch_content function. The content is then combined into a single string, creating context for the subsequent generative model.\n",
    "\n",
    "The GPT-2 model is employed for response generation. The passages, user's question, and generated context are tokenized to form a prompt. The pre-trained GPT-2 model and tokenizer from the Hugging Face Transformers library are utilized for text generation. The generated response undergoes post-processing, removing special tokens, and is finally displayed to the user.\n",
    "\n",
    "This example demonstrates the seamless integration of retrieval-based and generative models in the chatbot, offering context-aware responses to user queries on mental health."
   ]
  },
  {
   "cell_type": "code",
   "execution_count": 9,
   "id": "cf2193a8",
   "metadata": {
    "scrolled": true
   },
   "outputs": [
    {
     "name": "stdout",
     "output_type": "stream",
     "text": [
      "write your question: what is depression?\n"
     ]
    },
    {
     "name": "stderr",
     "output_type": "stream",
     "text": [
      "C:\\Users\\91701\\AppData\\Roaming\\Python\\Python39\\site-packages\\transformers\\generation\\configuration_utils.py:410: UserWarning: `do_sample` is set to `False`. However, `temperature` is set to `0.7` -- this flag is only used in sample-based generation modes. You should set `do_sample=True` or unset `temperature`.\n",
      "  warnings.warn(\n",
      "C:\\Users\\91701\\AppData\\Roaming\\Python\\Python39\\site-packages\\transformers\\generation\\configuration_utils.py:415: UserWarning: `do_sample` is set to `False`. However, `top_p` is set to `0.95` -- this flag is only used in sample-based generation modes. You should set `do_sample=True` or unset `top_p`.\n",
      "  warnings.warn(\n",
      "The attention mask and the pad token id were not set. As a consequence, you may observe unexpected behavior. Please pass your input's `attention_mask` to obtain reliable results.\n",
      "Setting `pad_token_id` to `eos_token_id`:50256 for open-end generation.\n",
      "Both `max_new_tokens` (=500) and `max_length`(=150) seem to have been set. `max_new_tokens` will take precedence. Please refer to the documentation for more information. (https://huggingface.co/docs/transformers/main/en/main_classes/text_generation)\n"
     ]
    },
    {
     "name": "stdout",
     "output_type": "stream",
     "text": [
      "Generated Response:\n",
      "Prompt: what is depression?\n",
      "Context: Depressive disorder (also known as depression) is a common mental disorder. It involves a depressed mood or loss of pleasure or interest in activities for long periods of time. Depression is different from regular mood changes and feelings about everyday life. It can affect all aspects of life, including relationships with family, friends and community. It can result from or lead to problems at school and at work. Depression can happen to anyone. People who have lived through abuse, severe losse...  Learn more about depression from Craig Sawchuk, Ph.D., L.P., clinical psychologist at Mayo Clinic. Hi, I'm Dr. Craig Sawchuk, a clinical psychologist at Mayo Clinic. And I'd like to share with you some of the things I've learned from my experience with depression. First of all, depression is not just a mental illness, it's a physical one. You have to deal with it in a way that makes sense to you. If you don't know what you're dealing with, you may not be able to handle it. Secondly, if you have depression, there are many things that you can do to help yourself. For example, take a break from work, go to the gym, eat a healthy diet, exercise regularly, and do a lot of physical activity. Thirdly, try to get out of bed at least once a day. This will help you get back to your normal routine. Finally, be aware that depression can be very difficult to treat. There are a number of medications that can help, such as antidepressants, antipsychotics, anti-depressants, anticonvulsants and antispasmodics. These medications can also help to reduce your risk of developing depression and other mental health problems. In addition to these medications, some people also take antidepressants to try and reduce their depression symptoms. Some of these drugs include: Prozac, Paxil, Adderall, Effexor, Zoloft, Tylenol, Valproic acid, Naltrexone, Risperdal, Vicodin, Lexapro, Tranylcypromine, Phenobarbital, Percocet, Seroquel, Vyvanse, Zyprexa, Xanax, Buprenorphine. The list goes on and on. As I mentioned before, many people who suffer from depression have a history of abuse or neglect. They may have been abused or neglected by their parents, grandparents, siblings, teachers, or other family members. Sometimes, they may also have had a family member who was involved in an abusive relationship with a person who suffered from the same condition. Many people have also been victims of domestic violence, sexual assault, stalking, domestic abuse and sexual abuse in the past. One of my favorite things to do is to talk to a loved one who has been a victim of a violent crime or abuse. Talk to them about how they feel about the situation and what they want to change about their lives. Also, make sure that they have the support of their family and friends. I know that many of you are thinking, \"Well, how can I help my\n"
     ]
    }
   ],
   "source": [
    "# Example: Fetch passages for the search results\n",
    "user_question = str(input(\"write your question: \"))\n",
    "search_result_urls = retrieve_passages_from_web(user_question)\n",
    "\n",
    "# Fetch content from each URL\n",
    "passages = [fetch_content(url) for url in search_result_urls]\n",
    "\n",
    "from transformers import GPT2LMHeadModel, GPT2Tokenizer\n",
    "\n",
    "# Fetch content from each URL\n",
    "passages = [fetch_content(url) for url in search_result_urls]\n",
    "\n",
    "# Combine passages into a single string for context\n",
    "context = ' '.join(passages)\n",
    "\n",
    "# Formulate prompt for GPT-2\n",
    "prompt = f\"Prompt: {user_question}\\nContext: {context}\\nResponse:\"\n",
    "\n",
    "# Load pre-trained GPT-2 model and tokenizer\n",
    "model_name = 'gpt2'  # You can use other GPT-2 variants like 'gpt2-medium', 'gpt2-large', etc.\n",
    "tokenizer = GPT2Tokenizer.from_pretrained(model_name)\n",
    "model = GPT2LMHeadModel.from_pretrained(model_name)\n",
    "\n",
    "# Tokenize the prompt\n",
    "input_ids = tokenizer.encode(prompt, return_tensors='pt')\n",
    "\n",
    "# Truncate input_ids if it exceeds max_length\n",
    "max_length = 150  # Choose an appropriate value\n",
    "if input_ids.size(1) > max_length:\n",
    "    input_ids = input_ids[:, :max_length]\n",
    "\n",
    "# Generate response using GPT-2\n",
    "output = model.generate(\n",
    "    input_ids,\n",
    "    max_length=max_length,\n",
    "    num_beams=5,\n",
    "    no_repeat_ngram_size=2,\n",
    "    top_k=50,\n",
    "    top_p=0.95,\n",
    "    temperature=0.7,\n",
    "    max_new_tokens=500,  # Adjust as needed\n",
    ")\n",
    "\n",
    "# Decode the generated response\n",
    "generated_response = tokenizer.decode(output[0], skip_special_tokens=True)\n",
    "\n",
    "# Display the generated response\n",
    "print(\"Generated Response:\")\n",
    "print(generated_response)"
   ]
  }
 ],
 "metadata": {
  "kernelspec": {
   "display_name": "Python 3 (ipykernel)",
   "language": "python",
   "name": "python3"
  },
  "language_info": {
   "codemirror_mode": {
    "name": "ipython",
    "version": 3
   },
   "file_extension": ".py",
   "mimetype": "text/x-python",
   "name": "python",
   "nbconvert_exporter": "python",
   "pygments_lexer": "ipython3",
   "version": "3.9.13"
  }
 },
 "nbformat": 4,
 "nbformat_minor": 5
}
